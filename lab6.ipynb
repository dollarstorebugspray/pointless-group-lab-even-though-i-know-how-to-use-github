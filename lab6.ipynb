{
 "cells": [
  {
   "cell_type": "code",
   "execution_count": 2,
   "id": "b3be80e8-9454-4f5a-8493-cc0358bf292f",
   "metadata": {},
   "outputs": [
    {
     "name": "stdin",
     "output_type": "stream",
     "text": [
      "give a name of literally anything that pops in your mind:  balls\n",
      "type literally anything as long it has a letter:  cheese\n"
     ]
    },
    {
     "name": "stdout",
     "output_type": "stream",
     "text": [
      "balls shoots a nuke at cheese and now cheese is now ash.\n"
     ]
    }
   ],
   "source": [
    "name = input('give a name of literally anything that pops in your mind: ')\n",
    "second_thing = input('type literally anything as long it has a letter: ')\n",
    "print(name + ' shoots a nuke at ' + second_thing + ' and now ' + second_thing + ' is now ash.')"
   ]
  },
  {
   "cell_type": "code",
   "execution_count": null,
   "id": "2a652a99-0a12-4ed0-beb6-af3b3006aadf",
   "metadata": {},
   "outputs": [],
   "source": []
  }
 ],
 "metadata": {
  "kernelspec": {
   "display_name": "Python 3 (ipykernel)",
   "language": "python",
   "name": "python3"
  },
  "language_info": {
   "codemirror_mode": {
    "name": "ipython",
    "version": 3
   },
   "file_extension": ".py",
   "mimetype": "text/x-python",
   "name": "python",
   "nbconvert_exporter": "python",
   "pygments_lexer": "ipython3",
   "version": "3.11.5"
  }
 },
 "nbformat": 4,
 "nbformat_minor": 5
}
