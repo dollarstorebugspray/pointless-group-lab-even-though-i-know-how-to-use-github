{
 "cells": [
  {
   "cell_type": "code",
   "execution_count": 3,
   "id": "b3be80e8-9454-4f5a-8493-cc0358bf292f",
   "metadata": {},
   "outputs": [
    {
     "name": "stdin",
     "output_type": "stream",
     "text": [
      "give a name of literally anything that pops in your mind:  cheese\n",
      "type literally anything as long it has a letter:  cooler cheese\n"
     ]
    },
    {
     "name": "stdout",
     "output_type": "stream",
     "text": [
      "cheese shoots a nuke at cooler cheese and now cooler cheese is ash.\n"
     ]
    }
   ],
   "source": [
    "name = input('give a name of literally anything that pops in your mind: ')\n",
    "second_thing = input('type literally anything as long it has a letter: ')\n",
    "print(name + ' shoots a nuke at ' + second_thing + ' and now ' + second_thing + ' is ash.')"
   ]
  },
  {
   "cell_type": "code",
   "execution_count": null,
   "id": "2a652a99-0a12-4ed0-beb6-af3b3006aadf",
   "metadata": {},
   "outputs": [],
   "source": []
  }
 ],
 "metadata": {
  "kernelspec": {
   "display_name": "Python 3 (ipykernel)",
   "language": "python",
   "name": "python3"
  },
  "language_info": {
   "codemirror_mode": {
    "name": "ipython",
    "version": 3
   },
   "file_extension": ".py",
   "mimetype": "text/x-python",
   "name": "python",
   "nbconvert_exporter": "python",
   "pygments_lexer": "ipython3",
   "version": "3.11.5"
  }
 },
 "nbformat": 4,
 "nbformat_minor": 5
}
